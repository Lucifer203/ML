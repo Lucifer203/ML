{
 "cells": [
  {
   "cell_type": "code",
   "execution_count": 1,
   "id": "beb6b2ed",
   "metadata": {},
   "outputs": [
    {
     "name": "stdout",
     "output_type": "stream",
     "text": [
      "Conv1d Implementation: [ 5. 14. 16. 26. 24. 34. 19. 22.]\n",
      "Numpy results: [ 5 14 16 26 24 34 19 22]\n"
     ]
    }
   ],
   "source": [
    "import numpy as np\n",
    "def conv1d(x,w,p=0,s=1):\n",
    "    w_rot = np.array(w[::-1])\n",
    "    x_padded = np.array(x)\n",
    "    \n",
    "    if p>0:\n",
    "        zero_pad = np.zeros(shape=p)\n",
    "        x_padded = np.concatenate([\n",
    "                zero_pad,x_padded,zero_pad\n",
    "        ])\n",
    "    res = []\n",
    "    for i in range(0,int((len(x_padded) - len(w_rot))) +1,s):\n",
    "        res.append(np.sum(x_padded[i:i+w_rot.shape[0]] * w_rot))\n",
    "    return np.array(res)\n",
    "\n",
    "\n",
    "x = [1,3,2,4,5,6,1,3]     \n",
    "w = [1,0,3,1,2]\n",
    "\n",
    "print(\"Conv1d Implementation:\",\n",
    "     conv1d(x,w,p=2,s=1))\n",
    "print(\"Numpy results:\",np.convolve(x,w,mode='same'))"
   ]
  },
  {
   "cell_type": "markdown",
   "id": "6e6993ca",
   "metadata": {},
   "source": [
    "For 2d convolution"
   ]
  },
  {
   "cell_type": "code",
   "execution_count": null,
   "id": "59a28e99",
   "metadata": {},
   "outputs": [],
   "source": []
  },
  {
   "cell_type": "code",
   "execution_count": 2,
   "id": "8ad34b26",
   "metadata": {},
   "outputs": [],
   "source": [
    "import scipy.signal"
   ]
  },
  {
   "cell_type": "code",
   "execution_count": 3,
   "id": "e719ef3f",
   "metadata": {},
   "outputs": [
    {
     "ename": "SyntaxError",
     "evalue": "invalid syntax (186869738.py, line 17)",
     "output_type": "error",
     "traceback": [
      "\u001b[0;36m  Cell \u001b[0;32mIn[3], line 17\u001b[0;36m\u001b[0m\n\u001b[0;31m    W_rot.shape[1]/s[1])+1,s[1]):\u001b[0m\n\u001b[0m                                ^\u001b[0m\n\u001b[0;31mSyntaxError\u001b[0m\u001b[0;31m:\u001b[0m invalid syntax\n"
     ]
    }
   ],
   "source": [
    "import scipy.signal\n",
    "\n",
    "def conv2d(X,W,p=(0,0),s=(1,1)):\n",
    "    W_rot = np.array(W[::-1,::-1])\n",
    "    X_orig = np.array(X)\n",
    "    n1 = X_orig.shape[0] + 2*p[0]\n",
    "    n2 = X_orig.shape[1] + 2*p[1]\n",
    "    X_padded = np.zeros(shape=(n1,n2))\n",
    "    X_padded[p[0]:p[0]+X_orig.shape[0],\n",
    "            p[1]:p[1]+X_orig.shape[1]] = X_orig\n",
    "    res = []\n",
    "    \n",
    "    for i in range(0,int((X_padded.shape[0]-\\\n",
    "                         W_rot.shape[0])/s[0])+1,s[0]):\n",
    "        res.append([])\n",
    "    for j in range(0,int((X_padded.shape[1] -\\\n",
    "                         W_rot.shape[1]/s[1])+1,s[1]):\n",
    "                        X_sub = X_padded[i+i+W_rot.shape[0],\n",
    "                                        j:j+W_rot.shape[1]]\n",
    "                        res[-1].append(np.sum(X_sub * W_rot)))\n",
    "    return (np.array(res))              "
   ]
  },
  {
   "cell_type": "code",
   "execution_count": 4,
   "id": "a9bec3fe",
   "metadata": {},
   "outputs": [
    {
     "name": "stdout",
     "output_type": "stream",
     "text": [
      "Scipy results:\n",
      " [[11 25 32 13]\n",
      " [19 25 24 13]\n",
      " [13 28 25 17]\n",
      " [11 17 14  9]]\n"
     ]
    }
   ],
   "source": [
    "X = [[1, 3, 2, 4], [5, 6, 1, 3], [1, 2, 0, 2], [3, 4, 3, 2]]\n",
    "W = [[1, 0, 3], [1, 2, 1], [0, 1, 1]]\n",
    "print('Scipy results:\\n',scipy.signal.convolve2d(X,W,mode='same'))"
   ]
  },
  {
   "cell_type": "code",
   "execution_count": 5,
   "id": "1340868a",
   "metadata": {},
   "outputs": [
    {
     "name": "stdout",
     "output_type": "stream",
     "text": [
      "Image Shape: torch.Size([3, 252, 221])\n"
     ]
    }
   ],
   "source": [
    "import torch\n",
    "from torchvision.io import read_image\n",
    "\n",
    "img = read_image(\"example-image.png\")\n",
    "print('Image Shape:',img.shape)"
   ]
  },
  {
   "cell_type": "code",
   "execution_count": 6,
   "id": "072d2521",
   "metadata": {},
   "outputs": [
    {
     "name": "stdout",
     "output_type": "stream",
     "text": [
      "Number of channels 3\n"
     ]
    }
   ],
   "source": [
    "print('Number of channels',img.shape[0])"
   ]
  },
  {
   "cell_type": "code",
   "execution_count": 7,
   "id": "0d30d02e",
   "metadata": {},
   "outputs": [
    {
     "name": "stdout",
     "output_type": "stream",
     "text": [
      "tensor([[[179, 182],\n",
      "         [180, 182]],\n",
      "\n",
      "        [[134, 136],\n",
      "         [135, 137]],\n",
      "\n",
      "        [[110, 112],\n",
      "         [111, 113]]], dtype=torch.uint8)\n"
     ]
    }
   ],
   "source": [
    "print(img[:,100:102,100:102])"
   ]
  },
  {
   "cell_type": "markdown",
   "id": "7e42047e",
   "metadata": {},
   "source": [
    "Regularizing an NN with L2 regularization and dropout"
   ]
  },
  {
   "cell_type": "code",
   "execution_count": 8,
   "id": "33c3603a",
   "metadata": {},
   "outputs": [],
   "source": [
    "import torch.nn as nn\n",
    "loss_func = nn.BCELoss()\n",
    "loss = loss_func(torch.tensor([0.9]),torch.tensor([1.0]))\n",
    "l2_lambda = 0.001\n",
    "conv_layer = nn.Conv2d(in_channels=3,\n",
    "                      out_channels=5,\n",
    "                      kernel_size=5)\n",
    "l2_penalty = l2_lambda * sum([(p**2).sum() for p in conv_layer.parameters()])\n",
    "\n",
    "loss_with_penalty = loss + l2_penalty\n",
    "linear_layer = nn.Linear(10,16)\n",
    "l2_penalty = l2_lambda * sum([(p**2).sum() for p in linear_layer.parameters()])\n",
    "\n",
    "loss_with_penalty = loss + l2_penalty"
   ]
  },
  {
   "cell_type": "code",
   "execution_count": 9,
   "id": "10214688",
   "metadata": {},
   "outputs": [
    {
     "name": "stdout",
     "output_type": "stream",
     "text": [
      "BCE (w Probas): 0.3711\n"
     ]
    }
   ],
   "source": [
    "logits = torch.tensor([0.8])\n",
    "probas = torch.sigmoid(logits)\n",
    "target = torch.tensor([1.0])\n",
    "bce_loss_fn = nn.BCELoss()\n",
    "bce_logits_loss_fn = nn.BCEWithLogitsLoss()\n",
    "print(f'BCE (w Probas): {bce_loss_fn(probas,target):.4f}')"
   ]
  },
  {
   "cell_type": "code",
   "execution_count": 10,
   "id": "b71c7ee7",
   "metadata": {},
   "outputs": [
    {
     "name": "stdout",
     "output_type": "stream",
     "text": [
      "BCE (w Logits): 0.3711\n"
     ]
    }
   ],
   "source": [
    "print(f'BCE (w Logits): {bce_logits_loss_fn(logits,target):.4f}')"
   ]
  },
  {
   "cell_type": "code",
   "execution_count": 11,
   "id": "9f1db5e7",
   "metadata": {},
   "outputs": [
    {
     "name": "stdout",
     "output_type": "stream",
     "text": [
      "CCE (w Probas): -2.1000\n",
      "CCE (w Logits): 0.8966\n"
     ]
    }
   ],
   "source": [
    "logits = torch.tensor([[1.5,0.8,2.1]])\n",
    "probas = torch.softmax(logits,dim=1)\n",
    "target = torch.tensor([2])\n",
    "cce_loss_fn = nn.NLLLoss()\n",
    "cce_logits_loss_fn = nn.CrossEntropyLoss()\n",
    "print(f'CCE (w Probas): {cce_loss_fn(logits,target):.4f}')\n",
    "print(f'CCE (w Logits): {cce_logits_loss_fn(probas,target):.4f}')"
   ]
  },
  {
   "cell_type": "markdown",
   "id": "90b76184",
   "metadata": {},
   "source": [
    "Implementing a deep CNN using PyTorch"
   ]
  },
  {
   "cell_type": "markdown",
   "id": "00c956c7",
   "metadata": {},
   "source": [
    "#### **Loading and preprocessing the data**"
   ]
  },
  {
   "cell_type": "code",
   "execution_count": 12,
   "id": "d464b499",
   "metadata": {},
   "outputs": [],
   "source": [
    "import torchvision\n",
    "from torchvision import transforms\n",
    "image_path = './'\n",
    "transform = transforms.Compose([\n",
    "    transforms.ToTensor()\n",
    "])\n",
    "mnist_dataset = torchvision.datasets.MNIST(root=image_path,train=True,\n",
    "                                          transform=transform,download=False)\n"
   ]
  },
  {
   "cell_type": "code",
   "execution_count": 13,
   "id": "c023293a",
   "metadata": {},
   "outputs": [],
   "source": [
    "from torch.utils.data import Subset\n",
    "mnist_valid_dataset = Subset(mnist_dataset,torch.arange(10000))\n",
    "mnist_train_dataset = Subset(mnist_dataset,torch.arange(10000,len(mnist_dataset)))\n",
    "mnist_test_dataset = torchvision.datasets.MNIST(root=image_path,train=False,\n",
    "                                               transform=transform,download=False)\n"
   ]
  },
  {
   "cell_type": "markdown",
   "id": "85d73876",
   "metadata": {},
   "source": [
    "##### **Creating a dataloader**"
   ]
  },
  {
   "cell_type": "code",
   "execution_count": 14,
   "id": "ce41f2af",
   "metadata": {},
   "outputs": [],
   "source": [
    "from torch.utils.data import DataLoader\n",
    "batch_size = 64\n",
    "torch.manual_seed(1)\n",
    "train_dl = DataLoader(mnist_train_dataset,batch_size,shuffle=True)\n",
    "valid_dl = DataLoader(mnist_valid_dataset,batch_size,shuffle=False)"
   ]
  },
  {
   "cell_type": "markdown",
   "id": "800c907b",
   "metadata": {},
   "source": [
    "Implementing a CNN "
   ]
  },
  {
   "cell_type": "code",
   "execution_count": 16,
   "id": "5024864c",
   "metadata": {},
   "outputs": [],
   "source": [
    "model = nn.Sequential()\n",
    "model.add_module('conv1',\n",
    "                nn.Conv2d(\n",
    "                in_channels=1,out_channels=32,kernel_size=5,padding=2)\n",
    "                )\n",
    "model.add_module('relu',nn.ReLU())\n",
    "model.add_module('pool1',nn.MaxPool2d(kernel_size=2))\n",
    "model.add_module('conv2',\n",
    "                nn.Conv2d(in_channels=32,out_channels=64,\n",
    "                         kernel_size=5,padding=2))\n",
    "model.add_module('relu',nn.ReLU())\n",
    "model.add_module('pool2',nn.MaxPool2d(kernel_size=2))"
   ]
  },
  {
   "cell_type": "code",
   "execution_count": 17,
   "id": "acc12e8f",
   "metadata": {},
   "outputs": [
    {
     "data": {
      "text/plain": [
       "torch.Size([4, 64, 7, 7])"
      ]
     },
     "execution_count": 17,
     "metadata": {},
     "output_type": "execute_result"
    }
   ],
   "source": [
    "x = torch.ones((4,1,28,28))\n",
    "model(x).shape"
   ]
  },
  {
   "cell_type": "code",
   "execution_count": 18,
   "id": "22332d45",
   "metadata": {},
   "outputs": [
    {
     "data": {
      "text/plain": [
       "torch.Size([4, 3136])"
      ]
     },
     "execution_count": 18,
     "metadata": {},
     "output_type": "execute_result"
    }
   ],
   "source": [
    "model.add_module('flatten',nn.Flatten())\n",
    "x=torch.ones((4,1,28,28))\n",
    "model(x).shape"
   ]
  },
  {
   "cell_type": "code",
   "execution_count": 19,
   "id": "97787572",
   "metadata": {},
   "outputs": [],
   "source": [
    "model.add_module('fc1',nn.Linear(3136,1024))\n",
    "model.add_module('relu3',nn.ReLU())\n",
    "model.add_module('dropout',nn.Dropout(p=0.5))\n",
    "model.add_module('fc2',nn.Linear(1024,10))"
   ]
  },
  {
   "cell_type": "code",
   "execution_count": 20,
   "id": "502f34f8",
   "metadata": {},
   "outputs": [],
   "source": [
    "loss_fn = nn.CrossEntropyLoss()\n",
    "optimizer = torch.optim.Adam(model.parameters(),lr=0.001)"
   ]
  },
  {
   "cell_type": "markdown",
   "id": "7816be8a",
   "metadata": {},
   "source": [
    "##### **Now training the model**"
   ]
  },
  {
   "cell_type": "code",
   "execution_count": 21,
   "id": "15f4b867",
   "metadata": {},
   "outputs": [],
   "source": [
    "def train(model,num_epochs,train_dl,valid_dl):\n",
    "    loss_hist_train = [0] * num_epochs\n",
    "    accuracy_hist_train = [0]*num_epochs\n",
    "    loss_hist_valid = [0] * num_epochs\n",
    "    accuracy_hist_valid = [0] * num_epochs\n",
    "    for epoch in range(num_epochs):\n",
    "        model.train()\n",
    "        for x_batch,y_batch in train_dl:\n",
    "            pred = model(x_batch)\n",
    "            loss = loss_fn(pred,y_batch)\n",
    "            loss.backward()\n",
    "            optimizer.step()\n",
    "            optimizer.zero_grad()\n",
    "            loss_hist_train[epoch] += loss.item()*y_batch.size(0)\n",
    "            is_correct = (torch.argmax(pred,dim=1)==y_batch).float()\n",
    "            accuracy_hist_train[epoch] += is_correct.sum()\n",
    "        loss_hist_train[epoch] /= len(train_dl.dataset)\n",
    "        accuracy_hist_train[epoch] /= len(train_dl.dataset)\n",
    "        \n",
    "        model.eval()\n",
    "        with torch.no_grad():\n",
    "            for x_batch,y_batch in valid_dl:\n",
    "                pred = model(x_batch)\n",
    "                loss = loss_fn(pred,y_batch)\n",
    "                loss_hist_valid[epoch] += loss.item() * y_batch.size(0)\n",
    "                is_correct = (torch.argmax(pred,dim=1)==y_batch).float()\n",
    "                accuracy_hist_valid[epoch] += is_correct.sum()\n",
    "            loss_hist_valid[epoch] /= len(valid_dl.dataset)\n",
    "            accuracy_hist_valid[epoch] /= len(valid_dl.dataset)\n",
    "            \n",
    "        print(f'Epoch {epoch+1} accuracy:'\n",
    "             f'{accuracy_hist_train[epoch]:.4f} val_accuracy:'\n",
    "             f'{accuracy_hist_valid[epoch]:.4f}')\n",
    "    return loss_hist_train,loss_hist_valid,accuracy_hist_train,accuracy_hist_valid"
   ]
  },
  {
   "cell_type": "code",
   "execution_count": 22,
   "id": "4ff4ed87",
   "metadata": {},
   "outputs": [
    {
     "name": "stdout",
     "output_type": "stream",
     "text": [
      "Epoch 1 accuracy:0.9507 val_accuracy:0.9793\n",
      "Epoch 2 accuracy:0.9830 val_accuracy:0.9862\n",
      "Epoch 3 accuracy:0.9866 val_accuracy:0.9882\n",
      "Epoch 4 accuracy:0.9888 val_accuracy:0.9874\n",
      "Epoch 5 accuracy:0.9914 val_accuracy:0.9869\n",
      "Epoch 6 accuracy:0.9929 val_accuracy:0.9904\n",
      "Epoch 7 accuracy:0.9931 val_accuracy:0.9889\n",
      "Epoch 8 accuracy:0.9946 val_accuracy:0.9897\n",
      "Epoch 9 accuracy:0.9939 val_accuracy:0.9900\n",
      "Epoch 10 accuracy:0.9952 val_accuracy:0.9897\n",
      "Epoch 11 accuracy:0.9959 val_accuracy:0.9890\n",
      "Epoch 12 accuracy:0.9953 val_accuracy:0.9880\n",
      "Epoch 13 accuracy:0.9966 val_accuracy:0.9898\n",
      "Epoch 14 accuracy:0.9961 val_accuracy:0.9887\n",
      "Epoch 15 accuracy:0.9967 val_accuracy:0.9911\n",
      "Epoch 16 accuracy:0.9961 val_accuracy:0.9905\n",
      "Epoch 17 accuracy:0.9972 val_accuracy:0.9902\n",
      "Epoch 18 accuracy:0.9964 val_accuracy:0.9906\n",
      "Epoch 19 accuracy:0.9974 val_accuracy:0.9874\n",
      "Epoch 20 accuracy:0.9967 val_accuracy:0.9894\n"
     ]
    }
   ],
   "source": [
    "torch.manual_seed(1)\n",
    "num_epochs=20\n",
    "hist = train(model,num_epochs,train_dl,valid_dl)"
   ]
  },
  {
   "cell_type": "code",
   "execution_count": 25,
   "id": "3727a951",
   "metadata": {},
   "outputs": [
    {
     "data": {
      "image/png": "[encoded data removed]",
      "text/plain": [
       "<Figure size 1200x400 with 2 Axes>"
      ]
     },
     "metadata": {},
     "output_type": "display_data"
    }
   ],
   "source": [
    "import matplotlib.pyplot as plt\n",
    "x_arr = np.arange(len(hist[0])) +1\n",
    "fig = plt.figure(figsize=(12,4))\n",
    "ax = fig.add_subplot(1,2,1)\n",
    "ax.plot(x_arr,hist[0],'-o',label='Train loss')\n",
    "ax.plot(x_arr,hist[1],'--<',label='Validation loss')\n",
    "ax.legend(fontsize=15)\n",
    "ax.set_xlabel('Epoch',size=15)\n",
    "ax.set_ylabel('Loss',size=15)\n",
    "ax = fig.add_subplot(1,2,2)\n",
    "ax.plot(x_arr,hist[2],'-o',label='train acc')\n",
    "ax.plot(x_arr,hist[3],'--<',label='Validation acc')\n",
    "ax.legend(fontsize=15)\n",
    "ax.set_xlabel('Epoch',size=15)\n",
    "ax.set_ylabel('Accuracy',size=15)\n",
    "plt.show()"
   ]
  },
  {
   "cell_type": "code",
   "execution_count": 26,
   "id": "6eff4334",
   "metadata": {},
   "outputs": [
    {
     "name": "stdout",
     "output_type": "stream",
     "text": [
      "Test accuracy: 0.9906\n"
     ]
    }
   ],
   "source": [
    "pred = model(mnist_test_dataset.data.unsqueeze(1) /255.)\n",
    "is_correct = (torch.argmax(pred,dim=1)==mnist_test_dataset.targets).float()\n",
    "print(f'Test accuracy: {is_correct.mean():.4f}')"
   ]
  },
  {
   "cell_type": "code",
   "execution_count": 27,
   "id": "89c742e9",
   "metadata": {},
   "outputs": [
    {
     "data": {
      "image/png": "[encoded data removed]",
      "text/plain": [
       "<Figure size 1200x400 with 12 Axes>"
      ]
     },
     "metadata": {},
     "output_type": "display_data"
    }
   ],
   "source": [
    "fig = plt.figure(figsize=(12,4))\n",
    "for i in range(12):\n",
    "    ax = fig.add_subplot(2,6,i+1)\n",
    "    ax.set_xticks([])\n",
    "    ax.set_yticks([])\n",
    "    img = mnist_test_dataset[i][0][0,:,:]\n",
    "    pred = model(img.unsqueeze(0).unsqueeze(1))\n",
    "    y_pred = torch.argmax(pred)\n",
    "    ax.imshow(img,cmap='gray_r')\n",
    "    ax.text(0.9,0.1,y_pred.item(),\n",
    "           size=15,color='red',\n",
    "           horizontalalignment='center',\n",
    "           verticalalignment='center',\n",
    "           transform = ax.transAxes)\n",
    "plt.show()"
   ]
  },
  {
   "cell_type": "code",
   "execution_count": null,
   "id": "ebd38557",
   "metadata": {},
   "outputs": [],
   "source": []
  }
 ],
 "metadata": {
  "kernelspec": {
   "display_name": "Python 3 (ipykernel)",
   "language": "python",
   "name": "python3"
  },
  "language_info": {
   "codemirror_mode": {
    "name": "ipython",
    "version": 3
   },
   "file_extension": ".py",
   "mimetype": "text/x-python",
   "name": "python",
   "nbconvert_exporter": "python",
   "pygments_lexer": "ipython3",
   "version": "3.11.5"
  }
 },
 "nbformat": 4,
 "nbformat_minor": 5
}
