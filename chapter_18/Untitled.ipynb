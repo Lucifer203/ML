{
 "cells": [
  {
   "cell_type": "code",
   "execution_count": 1,
   "id": "c707a9a9",
   "metadata": {},
   "outputs": [],
   "source": [
    "import numpy as np\n",
    "import networkx as nx"
   ]
  },
  {
   "cell_type": "code",
   "execution_count": 2,
   "id": "2f9b763e",
   "metadata": {},
   "outputs": [
    {
     "data": {
      "text/plain": [
       "array([[0, 1, 1, 0],\n",
       "       [1, 0, 1, 0],\n",
       "       [1, 1, 0, 1],\n",
       "       [0, 0, 1, 0]])"
      ]
     },
     "execution_count": 2,
     "metadata": {},
     "output_type": "execute_result"
    }
   ],
   "source": [
    "G = nx.Graph()\n",
    "\n",
    "blue,orange,green = \"#1f77b4\",\"#ff7f0e\",\"#2ca02c\"\n",
    "G.add_nodes_from([\n",
    "    (1,{\"color\":blue}),\n",
    "    (2,{\"color\":orange}),\n",
    "    (3,{\"color\":blue}),\n",
    "    (4,{\"color\":green})\n",
    "])\n",
    "G.add_edges_from([(1,2),(2,3),(1,3),(3,4)])\n",
    "A = np.asarray(nx.adjacency_matrix(G).todense())\n",
    "A"
   ]
  },
  {
   "cell_type": "code",
   "execution_count": 3,
   "id": "ff8750c9",
   "metadata": {},
   "outputs": [
    {
     "data": {
      "text/plain": [
       "array([[0., 1., 0.],\n",
       "       [0., 0., 1.],\n",
       "       [0., 1., 0.],\n",
       "       [1., 0., 0.]])"
      ]
     },
     "execution_count": 3,
     "metadata": {},
     "output_type": "execute_result"
    }
   ],
   "source": [
    "def build_graph_color_label_representation(G,mapping_dict):\n",
    "    one_hot_idxs = np.array([mapping_dict[v] for v in \n",
    "                             nx.get_node_attributes(G,'color').values()])\n",
    "    one_hot_encoding = np.zeros((one_hot_idxs.size,len(mapping_dict)))\n",
    "    one_hot_encoding[\n",
    "        np.arange(one_hot_idxs.size),one_hot_idxs\n",
    "    ] = 1\n",
    "    return one_hot_encoding\n",
    "X = build_graph_color_label_representation(G,{green:0,blue:1,orange:2})\n",
    "X"
   ]
  },
  {
   "cell_type": "code",
   "execution_count": 4,
   "id": "4034ff12",
   "metadata": {},
   "outputs": [
    {
     "data": {
      "image/png": "[encoded data removed]",
      "text/plain": [
       "<Figure size 640x480 with 1 Axes>"
      ]
     },
     "metadata": {},
     "output_type": "display_data"
    }
   ],
   "source": [
    "color_map = nx.get_node_attributes(G,'color').values()\n",
    "nx.draw(G,with_labels=True,node_color=color_map)"
   ]
  },
  {
   "cell_type": "code",
   "execution_count": 5,
   "id": "00994e06",
   "metadata": {},
   "outputs": [],
   "source": [
    "f_in,f_out = X.shape[1],6\n",
    "W_1 = np.random.rand(f_in,f_out)\n",
    "W_2 = np.random.rand(f_in,f_out)\n",
    "h = np.dot(X,W_1) + np.dot(np.dot(A,X),W_2)"
   ]
  },
  {
   "cell_type": "markdown",
   "id": "c1cf30f6",
   "metadata": {},
   "source": [
    "#### Defining the NodeNetwork model"
   ]
  },
  {
   "cell_type": "code",
   "execution_count": 6,
   "id": "8b8c3580",
   "metadata": {},
   "outputs": [],
   "source": [
    "import networkx as nx\n",
    "import torch\n",
    "from torch.nn.parameter import Parameter\n",
    "import numpy as np\n",
    "import math\n",
    "import torch.nn.functional as F"
   ]
  },
  {
   "cell_type": "code",
   "execution_count": 7,
   "id": "48914445",
   "metadata": {},
   "outputs": [],
   "source": [
    "class NodeNetwork(torch.nn.Module):\n",
    "    def __init__(self,input_features):\n",
    "        super().__init__()\n",
    "        self.conv_1 = BasicGraphConvolutionLayer(input_features,32)\n",
    "        self.conv_2 = BasicGraphConvolutionLayer(32,32)\n",
    "        self.fc_1 = torch.nn.Linear(32,16)\n",
    "        self.out_layer = torch.nn.Linear(16,2)\n",
    "        \n",
    "        \n",
    "    def forward(self,X,A,batch_mat):\n",
    "        x = F.relu(self.conv_1(X,A))\n",
    "        x = F.relu(self.conv_2(x,A))\n",
    "        output = global_sum_pool(x,batch_mat)\n",
    "        output = self.fc_1(output)\n",
    "        output = self.out_layer(output)\n",
    "        return F.softmax(output,dim=1)"
   ]
  },
  {
   "cell_type": "markdown",
   "id": "ba4d3cb3",
   "metadata": {},
   "source": [
    "#### NodeNetwork's graph convolution layer"
   ]
  },
  {
   "cell_type": "code",
   "execution_count": 8,
   "id": "6b989547",
   "metadata": {},
   "outputs": [],
   "source": [
    "class BasicGraphConvolutionLayer(torch.nn.Module):\n",
    "    def __init__(self,in_channels,out_channels):\n",
    "        super().__init__()\n",
    "        self.in_channels = in_channels\n",
    "        self.out_channels = out_channels\n",
    "        self.W2 = Parameter(torch.rand((in_channels,out_channels),dtype=torch.float32))\n",
    "        self.W1 = Parameter(torch.rand((in_channels,out_channels),dtype=torch.float32))\n",
    "        self.bias = Parameter(torch.zeros(out_channels,dtype=torch.float32))\n",
    "        \n",
    "    def forward(self,X,A):\n",
    "        potential_msgs = torch.mm(X,self.W2)\n",
    "        propagated_msgs = torch.mm(A,potential_msgs)\n",
    "        root_update = torch.mm(X,self.W1)\n",
    "        output = propagated_msgs + root_update + self.bias\n",
    "        return output"
   ]
  },
  {
   "cell_type": "code",
   "execution_count": 9,
   "id": "c0ea521f",
   "metadata": {},
   "outputs": [
    {
     "data": {
      "text/plain": [
       "(4, 3)"
      ]
     },
     "execution_count": 9,
     "metadata": {},
     "output_type": "execute_result"
    }
   ],
   "source": [
    "X.shape"
   ]
  },
  {
   "cell_type": "code",
   "execution_count": 14,
   "id": "d98b7d67",
   "metadata": {},
   "outputs": [
    {
     "data": {
      "text/plain": [
       "(4, 4)"
      ]
     },
     "execution_count": 14,
     "metadata": {},
     "output_type": "execute_result"
    }
   ],
   "source": [
    "A.shape"
   ]
  },
  {
   "cell_type": "code",
   "execution_count": 11,
   "id": "d1a3dffb",
   "metadata": {},
   "outputs": [
    {
     "data": {
      "text/plain": [
       "torch.Size([4, 8])"
      ]
     },
     "execution_count": 11,
     "metadata": {},
     "output_type": "execute_result"
    }
   ],
   "source": [
    "basiclayer = BasicGraphConvolutionLayer(3,8)\n",
    "out = basiclayer(X = torch.tensor(X,dtype=torch.float32),\n",
    "                A = torch.tensor(A,dtype=torch.float32)\n",
    "                )\n",
    "out.shape"
   ]
  },
  {
   "cell_type": "code",
   "execution_count": 12,
   "id": "523683f9",
   "metadata": {},
   "outputs": [],
   "source": [
    "def global_sum_pool(X,batch_mat):\n",
    "    if batch_mat is None or batch_mat.dim() == 1:\n",
    "        return torch.sum(X,dim=0).unsqueeze(0)\n",
    "    else:\n",
    "        return torch.mm(batch_mat,X)"
   ]
  },
  {
   "cell_type": "code",
   "execution_count": 13,
   "id": "d889c8ce",
   "metadata": {},
   "outputs": [],
   "source": [
    "from torch_geometric.datasets import QM9\n",
    "from torch_geometric.loader import DataLoader"
   ]
  },
  {
   "cell_type": "code",
   "execution_count": 31,
   "id": "a701f0c4",
   "metadata": {},
   "outputs": [],
   "source": [
    "from torch_geometric.nn import NNConv,global_add_pool\n",
    "import torch.nn as nn"
   ]
  },
  {
   "cell_type": "code",
   "execution_count": 16,
   "id": "626bd4b3",
   "metadata": {},
   "outputs": [
    {
     "name": "stderr",
     "output_type": "stream",
     "text": [
      "Downloading https://data.pyg.org/datasets/qm9_v3.zip\n",
      "Extracting ./raw/qm9_v3.zip\n",
      "Processing...\n",
      "Using a pre-processed version of the dataset. Please install 'rdkit' to alternatively process the raw data.\n",
      "Done!\n"
     ]
    },
    {
     "data": {
      "text/plain": [
       "QM9(130831)"
      ]
     },
     "execution_count": 16,
     "metadata": {},
     "output_type": "execute_result"
    }
   ],
   "source": [
    "# loading the QM9 dataset\n",
    "dset = QM9('.')\n",
    "dset"
   ]
  },
  {
   "cell_type": "code",
   "execution_count": 17,
   "id": "6a7b2d78",
   "metadata": {},
   "outputs": [
    {
     "data": {
      "text/plain": [
       "130831"
      ]
     },
     "execution_count": 17,
     "metadata": {},
     "output_type": "execute_result"
    }
   ],
   "source": [
    "len(dset)"
   ]
  },
  {
   "cell_type": "code",
   "execution_count": 18,
   "id": "78e203fd",
   "metadata": {},
   "outputs": [
    {
     "data": {
      "text/plain": [
       "Data(x=[5, 11], edge_index=[2, 8], edge_attr=[8, 4], y=[1, 19], pos=[5, 3], idx=[1], name='gdb_1', z=[5])"
      ]
     },
     "execution_count": 18,
     "metadata": {},
     "output_type": "execute_result"
    }
   ],
   "source": [
    "data = dset[0]\n",
    "data"
   ]
  },
  {
   "cell_type": "code",
   "execution_count": 19,
   "id": "fbc8aeae",
   "metadata": {},
   "outputs": [
    {
     "data": {
      "text/plain": [
       "tensor([6, 1, 1, 1, 1])"
      ]
     },
     "execution_count": 19,
     "metadata": {},
     "output_type": "execute_result"
    }
   ],
   "source": [
    "data.z"
   ]
  },
  {
   "cell_type": "code",
   "execution_count": 20,
   "id": "52730b2f",
   "metadata": {},
   "outputs": [
    {
     "data": {
      "text/plain": [
       "Data(x=[5, 11], edge_index=[2, 8], edge_attr=[8, 4], y=[1, 19], pos=[5, 3], idx=[1], name='gdb_1', z=[5], new_attribute=[3])"
      ]
     },
     "execution_count": 20,
     "metadata": {},
     "output_type": "execute_result"
    }
   ],
   "source": [
    "data.new_attribute = torch.tensor([1,2,3])\n",
    "data"
   ]
  },
  {
   "cell_type": "code",
   "execution_count": 21,
   "id": "7ea1439c",
   "metadata": {},
   "outputs": [
    {
     "data": {
      "text/plain": [
       "tensor([1, 2, 3])"
      ]
     },
     "execution_count": 21,
     "metadata": {},
     "output_type": "execute_result"
    }
   ],
   "source": [
    "data.new_attribute"
   ]
  },
  {
   "cell_type": "code",
   "execution_count": 23,
   "id": "6876c24e",
   "metadata": {},
   "outputs": [
    {
     "data": {
      "text/plain": [
       "False"
      ]
     },
     "execution_count": 23,
     "metadata": {},
     "output_type": "execute_result"
    }
   ],
   "source": [
    "device = torch.device(\"cuda:0\" if torch.cuda.is_available() else \"cpu\")\n",
    "data.to(device)\n",
    "data.new_attribute.is_cuda"
   ]
  },
  {
   "cell_type": "code",
   "execution_count": 24,
   "id": "efc3a43c",
   "metadata": {},
   "outputs": [
    {
     "data": {
      "text/plain": [
       "tensor([[0., 1., 0., 0., 0., 6., 0., 0., 0., 0., 4.],\n",
       "        [1., 0., 0., 0., 0., 1., 0., 0., 0., 0., 0.],\n",
       "        [1., 0., 0., 0., 0., 1., 0., 0., 0., 0., 0.],\n",
       "        [1., 0., 0., 0., 0., 1., 0., 0., 0., 0., 0.],\n",
       "        [1., 0., 0., 0., 0., 1., 0., 0., 0., 0., 0.]])"
      ]
     },
     "execution_count": 24,
     "metadata": {},
     "output_type": "execute_result"
    }
   ],
   "source": [
    "data.x"
   ]
  },
  {
   "cell_type": "code",
   "execution_count": 32,
   "id": "760bd3cf",
   "metadata": {},
   "outputs": [],
   "source": [
    "class ExampleNet(torch.nn.Module):\n",
    "    def __init__(self,num_node_features,num_edge_features):\n",
    "        super().__init__()\n",
    "        conv1_net = nn.Sequential(nn.Linear(num_edge_features,32),\n",
    "                                 nn.ReLU(),\n",
    "                                 nn.Linear(32,num_node_features*32))\n",
    "        \n",
    "        conv2_net = nn.Sequential(nn.Linear(num_edge_features,32),\n",
    "                                 nn.ReLU(),\n",
    "                                 nn.Linear(32,32*16))\n",
    "        self.conv1 = NNConv(num_node_features,32,conv1_net)\n",
    "        self.conv2 = NNConv(32,16,conv2_net)\n",
    "        self.fc_1 = nn.Linear(16,32)\n",
    "        self.out = nn.Linear(32,1)\n",
    "        \n",
    "    def forward(self,data):\n",
    "        batch,x,edge_index,edge_attr = (data.batch,data.x,data.edge_index,data.edge_attr)\n",
    "        \n",
    "        x = F.relu(self.conv1(x,edge_index,edge_attr))\n",
    "        \n",
    "        x = F.relu(self.conv2(x,edge_index,edge_attr))\n",
    "        \n",
    "        x = global_add_pool(x,batch)\n",
    "        x = F.relu(self.fc_1(x))\n",
    "        output = self.out(x)\n",
    "        return output"
   ]
  },
  {
   "cell_type": "code",
   "execution_count": 33,
   "id": "5d2cf136",
   "metadata": {},
   "outputs": [],
   "source": [
    "from torch.utils.data import random_split\n",
    "\n",
    "train_set,valid_set,test_set = random_split(dset,[110000,10831,10000])\n",
    "trainloader = DataLoader(train_set,batch_size=32,shuffle=True)\n",
    "validloader = DataLoader(valid_set,batch_size=32,shuffle=True)\n",
    "testloader = DataLoader(test_set,batch_size=32,shuffle=True)"
   ]
  },
  {
   "cell_type": "code",
   "execution_count": 37,
   "id": "12e9efd4",
   "metadata": {},
   "outputs": [
    {
     "data": {
      "text/plain": [
       "ExampleNet(\n",
       "  (conv1): NNConv(11, 32, aggr=add, nn=Sequential(\n",
       "    (0): Linear(in_features=4, out_features=32, bias=True)\n",
       "    (1): ReLU()\n",
       "    (2): Linear(in_features=32, out_features=352, bias=True)\n",
       "  ))\n",
       "  (conv2): NNConv(32, 16, aggr=add, nn=Sequential(\n",
       "    (0): Linear(in_features=4, out_features=32, bias=True)\n",
       "    (1): ReLU()\n",
       "    (2): Linear(in_features=32, out_features=512, bias=True)\n",
       "  ))\n",
       "  (fc_1): Linear(in_features=16, out_features=32, bias=True)\n",
       "  (out): Linear(in_features=32, out_features=1, bias=True)\n",
       ")"
      ]
     },
     "execution_count": 37,
     "metadata": {},
     "output_type": "execute_result"
    }
   ],
   "source": [
    "qm9_node_feats,qm9_edge_feats = 11,4\n",
    "net = ExampleNet(qm9_node_feats,qm9_edge_feats)\n",
    "\n",
    "optimizer = torch.optim.Adam(net.parameters(),lr=0.01)\n",
    "epochs = 4\n",
    "target_idx = 1\n",
    "device = torch.device(\"cuda:0\" if torch.cuda.is_available() else \"cpu\")\n",
    "net.to(device)"
   ]
  },
  {
   "cell_type": "code",
   "execution_count": 38,
   "id": "e6e53825",
   "metadata": {},
   "outputs": [
    {
     "name": "stdout",
     "output_type": "stream",
     "text": [
      "Epochs: 0 | epoch avg. loss: 0.5341 | validation avg. loss: 0.1378\n",
      "Epochs: 1 | epoch avg. loss: 0.1463 | validation avg. loss: 0.0975\n",
      "Epochs: 2 | epoch avg. loss: 0.1107 | validation avg. loss: 0.0692\n",
      "Epochs: 3 | epoch avg. loss: 0.0977 | validation avg. loss: 0.0750\n"
     ]
    }
   ],
   "source": [
    "for total_epochs in range(epochs):\n",
    "    epoch_loss = 0\n",
    "    total_graphs = 0\n",
    "    net.train()\n",
    "    for batch in trainloader:\n",
    "        batch.to(device)\n",
    "        optimizer.zero_grad()\n",
    "        output = net(batch)\n",
    "        loss = F.mse_loss(output,batch.y[:,target_idx].unsqueeze(1))\n",
    "        loss.backward()\n",
    "        epoch_loss += loss.item()\n",
    "        total_graphs += batch.num_graphs\n",
    "        optimizer.step()\n",
    "    train_avg_loss = epoch_loss / total_graphs\n",
    "    val_loss = 0\n",
    "    total_graphs = 0\n",
    "    net.eval()\n",
    "    for batch in validloader:\n",
    "        batch.to(device)\n",
    "        output = net(batch)\n",
    "        loss = F.mse_loss(output,batch.y[:,target_idx].unsqueeze(1))\n",
    "        val_loss += loss.item()\n",
    "        total_graphs += batch.num_graphs\n",
    "    val_avg_loss = val_loss / total_graphs\n",
    "    print(f'Epochs: {total_epochs} | epoch avg. loss: {train_avg_loss:.4f} | validation avg. loss: {val_avg_loss:.4f}')"
   ]
  },
  {
   "cell_type": "code",
   "execution_count": 39,
   "id": "78b8ad4d",
   "metadata": {},
   "outputs": [],
   "source": [
    "net.eval()\n",
    "predictions = []\n",
    "real = []\n",
    "for batch in testloader:\n",
    "    output = net(batch.to(device))\n",
    "    predictions.append(output.detach().cpu().numpy())\n",
    "    real.append(batch.y[:,target_idx].detach().cpu().numpy())\n",
    "real = np.concatenate(real)\n",
    "predictions = np.concatenate(predictions)"
   ]
  },
  {
   "cell_type": "code",
   "execution_count": 40,
   "id": "fd545c4b",
   "metadata": {},
   "outputs": [
    {
     "data": {
      "text/plain": [
       "Text(0, 0.5, 'Predicted isotropic polarizability')"
      ]
     },
     "execution_count": 40,
     "metadata": {},
     "output_type": "execute_result"
    },
    {
     "data": {
      "image/png": "[encoded data removed]",
      "text/plain": [
       "<Figure size 640x480 with 1 Axes>"
      ]
     },
     "metadata": {},
     "output_type": "display_data"
    }
   ],
   "source": [
    "import matplotlib.pyplot as plt\n",
    "plt.scatter(real[:500],predictions[:500])\n",
    "plt.xlabel(\"Isotropic polarizabilty\")\n",
    "plt.ylabel(\"Predicted isotropic polarizability\")"
   ]
  },
  {
   "cell_type": "code",
   "execution_count": null,
   "id": "c7a09c34",
   "metadata": {},
   "outputs": [],
   "source": []
  }
 ],
 "metadata": {
  "kernelspec": {
   "display_name": "Python 3 (ipykernel)",
   "language": "python",
   "name": "python3"
  },
  "language_info": {
   "codemirror_mode": {
    "name": "ipython",
    "version": 3
   },
   "file_extension": ".py",
   "mimetype": "text/x-python",
   "name": "python",
   "nbconvert_exporter": "python",
   "pygments_lexer": "ipython3",
   "version": "3.11.5"
  }
 },
 "nbformat": 4,
 "nbformat_minor": 5
}
